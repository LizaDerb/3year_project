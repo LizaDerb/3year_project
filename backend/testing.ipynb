{
 "cells": [
  {
   "cell_type": "code",
   "execution_count": 1,
   "id": "29ea391d-7594-4015-b474-5a82d5a6ec9b",
   "metadata": {},
   "outputs": [],
   "source": [
    "import sqlite3 \n",
    "from search import get_results\n",
    "import random\n",
    "from tagset import TAGSET\n",
    "import time"
   ]
  },
  {
   "cell_type": "code",
   "execution_count": 2,
   "id": "02f0ec8e-6ca1-4cc9-bdfe-a17d09d91047",
   "metadata": {},
   "outputs": [],
   "source": [
    "from tagset import TAGSET\n",
    "from search_functions import find_from_lemma, find_from_form, find_from_lemma_and_POS, find_from_POS\n",
    "import re\n",
    "import sqlite3\n",
    "import pymorphy2"
   ]
  },
  {
   "cell_type": "code",
   "execution_count": 3,
   "id": "90305cc1-2643-4351-be52-9aa737602c12",
   "metadata": {},
   "outputs": [],
   "source": [
    "con = sqlite3.connect('data/database.db')  # подключение\n",
    "cur = con.cursor()  # курсор"
   ]
  },
  {
   "cell_type": "code",
   "execution_count": 7,
   "id": "36e8ff5d-a21f-4523-8d91-3c4cec25cd61",
   "metadata": {},
   "outputs": [],
   "source": [
    "tests = {'form': '\"анализа\"',\n",
    "        'lemma' : 'картина',\n",
    "        'POS': random.choice(TAGSET),\n",
    "        'lemma+POS': 'предложить+PRTF',\n",
    "        'form lemma': '\"для\" анализов',\n",
    "        'lemma POS': 'меня VERB',\n",
    "        'form POS': '\"он\" VERB',\n",
    "        'POS POS': 'PREP PRTF',\n",
    "        'form trigram': '\"в\" \"предложенном\" \"для\"',\n",
    "        'lemma trigram': 'природе и человека',\n",
    "        'POS trigram': 'PREP PRTF PREP'}"
   ]
  },
  {
   "cell_type": "code",
   "execution_count": 9,
   "id": "fcd77b42-85e4-4c66-a7cf-8f6a5c07f6d8",
   "metadata": {},
   "outputs": [
    {
     "name": "stdout",
     "output_type": "stream",
     "text": [
      "Тест: form, запрос: \"анализа\" \n",
      " ['анализа', (' В предложенном для анализа тексте Владимир Николаевич Крупин размышляет о взаимодействии природы и человека.', 'Проблема природы Сочинение № 13799681', 'Автор:  Джон Джонов', 'https://mogu-pisat.ru/sochinenie/ege/?ELEMENT_ID=13799681')] Всего результатов: 30 Время выполнения: 0.24 seconds\n",
      "Тест: lemma, запрос: картина \n",
      " ['картины', ('Его изящные и самобытные картины находят отклик в моей душе, онипобуждают замечать прелесть мира вокруг.В заключение хочется добавить, что каждому следует научиться находить красоту во всем: в цветах, в природе и даже в самом себе.', 'Какое значение красота имеет в жизни человека? Сочинение № 13799674', 'Автор:  Азалия Вильданова', 'https://mogu-pisat.ru/sochinenie/ege/?ELEMENT_ID=13799674')] Всего результатов: 3 Время выполнения: 0.25 seconds\n",
      "Тест: POS, запрос: PRED \n",
      " ['можно', ('Таким образом, можно сказать, что человек создан, чтобы взаимодействовать с природой.', 'Проблема природы Сочинение № 13799681', 'Автор:  Джон Джонов', 'https://mogu-pisat.ru/sochinenie/ege/?ELEMENT_ID=13799681')] Всего результатов: 210 Время выполнения: 0.46 seconds\n",
      "Тест: lemma+POS, запрос: предложить+PRTF \n",
      " ['предложенном', (' В предложенном для анализа тексте Владимир Николаевич Крупин размышляет о взаимодействии природы и человека.', 'Проблема природы Сочинение № 13799681', 'Автор:  Джон Джонов', 'https://mogu-pisat.ru/sochinenie/ege/?ELEMENT_ID=13799681')] Всего результатов: 30 Время выполнения: 0.28 seconds\n",
      "Тест: form lemma, запрос: \"для\" анализов \n",
      " ['для анализа', (' В предложенном для анализа тексте Владимир Николаевич Крупин размышляет о взаимодействии природы и человека.', 'Проблема природы Сочинение № 13799681', 'Автор:  Джон Джонов', 'https://mogu-pisat.ru/sochinenie/ege/?ELEMENT_ID=13799681')] Всего результатов: 31 Время выполнения: 20.82 seconds\n",
      "Тест: lemma POS, запрос: меня VERB \n",
      " ['я жил', ('Я жил на ее берегах\".', 'Проблема природы Сочинение № 13799681', 'Автор:  Джон Джонов', 'https://mogu-pisat.ru/sochinenie/ege/?ELEMENT_ID=13799681')] Всего результатов: 73 Время выполнения: 25.01 seconds\n",
      "Тест: form POS, запрос: \"он\" VERB \n",
      " ['он относится', ('Мы пониманием, насколько дороги человеку могут быть родные места, с какой любовью и заботой он относится к ним, стремясь их сохранить и оградить от чужого вмешательства.', 'Проблема природы Сочинение № 13799681', 'Автор:  Джон Джонов', 'https://mogu-pisat.ru/sochinenie/ege/?ELEMENT_ID=13799681')] Всего результатов: 125 Время выполнения: 23.9 seconds\n",
      "Тест: POS POS, запрос: PREP PRTF \n",
      " ['в предложенном', (' В предложенном для анализа тексте Владимир Николаевич Крупин размышляет о взаимодействии природы и человека.', 'Проблема природы Сочинение № 13799681', 'Автор:  Джон Джонов', 'https://mogu-pisat.ru/sochinenie/ege/?ELEMENT_ID=13799681')] Всего результатов: 91 Время выполнения: 324.69 seconds\n",
      "Тест: form trigram, запрос: \"в\" \"предложенном\" \"для\" \n",
      " ['в предложенном для', (' В предложенном для анализа тексте Владимир Николаевич Крупин размышляет о взаимодействии природы и человека.', 'Проблема природы Сочинение № 13799681', 'Автор:  Джон Джонов', 'https://mogu-pisat.ru/sochinenie/ege/?ELEMENT_ID=13799681')] Всего результатов: 25 Время выполнения: 93.04 seconds\n",
      "Тест: lemma trigram, запрос: природе и человека \n",
      " ['природы и человека', (' В предложенном для анализа тексте Владимир Николаевич Крупин размышляет о взаимодействии природы и человека.', 'Проблема природы Сочинение № 13799681', 'Автор:  Джон Джонов', 'https://mogu-pisat.ru/sochinenie/ege/?ELEMENT_ID=13799681')] Всего результатов: 1 Время выполнения: 9.12 seconds\n",
      "Тест: POS trigram, запрос: PREP PRTF PREP \n",
      " ['в предложенном для', (' В предложенном для анализа тексте Владимир Николаевич Крупин размышляет о взаимодействии природы и человека.', 'Проблема природы Сочинение № 13799681', 'Автор:  Джон Джонов', 'https://mogu-pisat.ru/sochinenie/ege/?ELEMENT_ID=13799681')] Всего результатов: 32 Время выполнения: 328.58 seconds\n"
     ]
    }
   ],
   "source": [
    "for test in tests:\n",
    "    st = time.time()\n",
    "    res = get_results(cur, tests[test])\n",
    "    et = time.time()\n",
    "    print(f'Тест: {test}, запрос: {tests[test]}', '\\n', res[0], f'Всего результатов: {res.__len__()}', f'Время выполнения: {round(et-st,2)} seconds')"
   ]
  },
  {
   "cell_type": "markdown",
   "id": "1b0e2a5c-9839-4e59-93a6-c08e65ab7b22",
   "metadata": {},
   "source": [
    "Итак, поиск относительно быстро (за секунду и меньше) ищет однограммы любого вида. \n",
    "Биграммы любого вида кроме POS POS ищутся примерно за 20-30 секунд. Биграмма POS POS искалась 5 минут\n",
    "Триграммы из форм и из POS искались по 1,5 минуты, триграмма из лемм (почему-то) 9 секунд. Возможно, дело в числе результатов"
   ]
  },
  {
   "cell_type": "markdown",
   "id": "68920510-ff6b-4f61-b76a-d6c432350b68",
   "metadata": {},
   "source": [
    "В целом, для корпуса размером 32000 токенов это приемлемые цифры."
   ]
  }
 ],
 "metadata": {
  "kernelspec": {
   "display_name": "Python 3 (ipykernel)",
   "language": "python",
   "name": "python3"
  },
  "language_info": {
   "codemirror_mode": {
    "name": "ipython",
    "version": 3
   },
   "file_extension": ".py",
   "mimetype": "text/x-python",
   "name": "python",
   "nbconvert_exporter": "python",
   "pygments_lexer": "ipython3",
   "version": "3.10.4"
  }
 },
 "nbformat": 4,
 "nbformat_minor": 5
}
